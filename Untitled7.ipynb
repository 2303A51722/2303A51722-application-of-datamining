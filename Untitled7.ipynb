{
  "nbformat": 4,
  "nbformat_minor": 0,
  "metadata": {
    "colab": {
      "provenance": [],
      "authorship_tag": "ABX9TyOrSs0UeYvSzbAzRBdYs0d/",
      "include_colab_link": true
    },
    "kernelspec": {
      "name": "python3",
      "display_name": "Python 3"
    },
    "language_info": {
      "name": "python"
    }
  },
  "cells": [
    {
      "cell_type": "markdown",
      "metadata": {
        "id": "view-in-github",
        "colab_type": "text"
      },
      "source": [
        "<a href=\"https://colab.research.google.com/github/2303A51722/2303A51722-application-of-datamining/blob/main/Untitled7.ipynb\" target=\"_parent\"><img src=\"https://colab.research.google.com/assets/colab-badge.svg\" alt=\"Open In Colab\"/></a>"
      ]
    },
    {
      "cell_type": "code",
      "execution_count": 11,
      "metadata": {
        "id": "ugqjx_muGHR5"
      },
      "outputs": [],
      "source": [
        "import pandas as pd\n",
        "from sklearn.preprocessing import MinMaxScaler, StandardScaler"
      ]
    },
    {
      "cell_type": "code",
      "source": [
        "file_path = 'titanic.csv'  # Assuming the file is in the same directory as the script\n",
        "df = pd.read_csv(file_path)"
      ],
      "metadata": {
        "id": "oqoEUQOJH7yb"
      },
      "execution_count": 15,
      "outputs": []
    },
    {
      "cell_type": "code",
      "source": [
        "# Handle missing values (impute with mean, median, or mode)\n",
        "for column in df.select_dtypes(include=['number']).columns:\n",
        "    df[column].fillna(df[column].mean(), inplace=True)  # Mean imputation\n"
      ],
      "metadata": {
        "colab": {
          "base_uri": "https://localhost:8080/"
        },
        "id": "UA3uQ1QwIcb7",
        "outputId": "c61b72bc-fac4-494d-bd9d-f985744bb8b2"
      },
      "execution_count": 16,
      "outputs": [
        {
          "output_type": "stream",
          "name": "stderr",
          "text": [
            "<ipython-input-16-6a7d6d9c38fb>:3: FutureWarning: A value is trying to be set on a copy of a DataFrame or Series through chained assignment using an inplace method.\n",
            "The behavior will change in pandas 3.0. This inplace method will never work because the intermediate object on which we are setting values always behaves as a copy.\n",
            "\n",
            "For example, when doing 'df[col].method(value, inplace=True)', try using 'df.method({col: value}, inplace=True)' or df[col] = df[col].method(value) instead, to perform the operation inplace on the original object.\n",
            "\n",
            "\n",
            "  df[column].fillna(df[column].mean(), inplace=True)  # Mean imputation\n"
          ]
        }
      ]
    },
    {
      "cell_type": "code",
      "source": [
        " #Feature scaling (Choose one)\n",
        "scaler = MinMaxScaler()  # Min-Max Normalization\n",
        "# scaler = StandardScaler()  # Standardization\n"
      ],
      "metadata": {
        "id": "b61QPIGwIf-r"
      },
      "execution_count": 18,
      "outputs": []
    },
    {
      "cell_type": "code",
      "source": [
        "numeric_columns = df.select_dtypes(include=['number']).columns\n",
        "df[numeric_columns] = scaler.fit_transform(df[numeric_columns])\n"
      ],
      "metadata": {
        "id": "mdprXgfpInzK"
      },
      "execution_count": 19,
      "outputs": []
    },
    {
      "cell_type": "code",
      "source": [
        "# Display the first few rows after preprocessing\n",
        "print(df.head())\n"
      ],
      "metadata": {
        "colab": {
          "base_uri": "https://localhost:8080/"
        },
        "id": "yOdxjZUFIqn7",
        "outputId": "65be686b-96ec-4520-acc9-5c7d60aa19a6"
      },
      "execution_count": 20,
      "outputs": [
        {
          "output_type": "stream",
          "name": "stdout",
          "text": [
            "   PassengerId  Survived  Pclass  \\\n",
            "0     0.000000       0.0     1.0   \n",
            "1     0.001124       1.0     0.0   \n",
            "2     0.002247       1.0     1.0   \n",
            "3     0.003371       1.0     0.0   \n",
            "4     0.004494       0.0     1.0   \n",
            "\n",
            "                                                Name     Sex       Age  SibSp  \\\n",
            "0                            Braund, Mr. Owen Harris    male  0.271174  0.125   \n",
            "1  Cumings, Mrs. John Bradley (Florence Briggs Th...  female  0.472229  0.125   \n",
            "2                             Heikkinen, Miss. Laina  female  0.321438  0.000   \n",
            "3       Futrelle, Mrs. Jacques Heath (Lily May Peel)  female  0.434531  0.125   \n",
            "4                           Allen, Mr. William Henry    male  0.434531  0.000   \n",
            "\n",
            "   Parch            Ticket      Fare Cabin Embarked  \n",
            "0    0.0         A/5 21171  0.014151   NaN        S  \n",
            "1    0.0          PC 17599  0.139136   C85        C  \n",
            "2    0.0  STON/O2. 3101282  0.015469   NaN        S  \n",
            "3    0.0            113803  0.103644  C123        S  \n",
            "4    0.0            373450  0.015713   NaN        S  \n"
          ]
        }
      ]
    }
  ]
}